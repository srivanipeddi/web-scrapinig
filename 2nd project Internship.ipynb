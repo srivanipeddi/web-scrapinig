{
 "cells": [
  {
   "cell_type": "markdown",
   "id": "5ba234be",
   "metadata": {},
   "source": [
    "![title](th.jpg)"
   ]
  },
  {
   "cell_type": "markdown",
   "id": "7809fdf7",
   "metadata": {},
   "source": [
    "![title](prabhas)"
   ]
  },
  {
   "cell_type": "code",
   "execution_count": null,
   "id": "2b11b09e",
   "metadata": {},
   "outputs": [],
   "source": []
  },
  {
   "cell_type": "code",
   "execution_count": null,
   "id": "c4e04b9e",
   "metadata": {},
   "outputs": [],
   "source": []
  },
  {
   "cell_type": "code",
   "execution_count": 2,
   "id": "c1d04af7",
   "metadata": {},
   "outputs": [
    {
     "name": "stdout",
     "output_type": "stream",
     "text": [
      "Collecting opencv-python\n",
      "  Downloading opencv_python-4.8.0.74-cp37-abi3-win_amd64.whl (38.1 MB)\n",
      "     -------------------------------------- 38.1/38.1 MB 545.1 kB/s eta 0:00:00\n",
      "Requirement already satisfied: numpy>=1.19.3 in c:\\users\\sriva\\anaconda3\\lib\\site-packages (from opencv-python) (1.21.5)\n",
      "Installing collected packages: opencv-python\n",
      "Successfully installed opencv-python-4.8.0.74\n",
      "Note: you may need to restart the kernel to use updated packages.\n"
     ]
    }
   ],
   "source": [
    "pip install opencv-python"
   ]
  },
  {
   "cell_type": "code",
   "execution_count": 1,
   "id": "beee0e88",
   "metadata": {},
   "outputs": [
    {
     "name": "stdout",
     "output_type": "stream",
     "text": [
      "Note: you may need to restart the kernel to use updated packages.\n"
     ]
    },
    {
     "name": "stderr",
     "output_type": "stream",
     "text": [
      "ERROR: Could not find a version that satisfies the requirement os (from versions: none)\n",
      "ERROR: No matching distribution found for os\n"
     ]
    }
   ],
   "source": [
    "pip install os"
   ]
  },
  {
   "cell_type": "code",
   "execution_count": 2,
   "id": "56d23b40",
   "metadata": {},
   "outputs": [],
   "source": [
    "import glob\n",
    "import cv2\n",
    "import matplotlib.pyplot as plt\n",
    "import os"
   ]
  },
  {
   "cell_type": "code",
   "execution_count": 20,
   "id": "c8d21ef6",
   "metadata": {},
   "outputs": [],
   "source": [
    "from bs4 import BeautifulSoup\n",
    "import requests\n"
   ]
  },
  {
   "cell_type": "code",
   "execution_count": 31,
   "id": "cc694edf",
   "metadata": {},
   "outputs": [],
   "source": [
    "url=\"https://wallpapercave.com/wp/wp2014722.jpg\""
   ]
  },
  {
   "cell_type": "code",
   "execution_count": 32,
   "id": "ab517a9c",
   "metadata": {},
   "outputs": [],
   "source": [
    "r=requests.get(url)"
   ]
  },
  {
   "cell_type": "code",
   "execution_count": 33,
   "id": "a2b4de31",
   "metadata": {},
   "outputs": [],
   "source": [
    "soup=BeautifulSoup(r.text,'html.parser')"
   ]
  },
  {
   "cell_type": "code",
   "execution_count": 35,
   "id": "c2ffba01",
   "metadata": {},
   "outputs": [],
   "source": [
    "images=soup.find_all('img')"
   ]
  },
  {
   "cell_type": "code",
   "execution_count": 36,
   "id": "4fe6bc49",
   "metadata": {},
   "outputs": [
    {
     "name": "stdout",
     "output_type": "stream",
     "text": [
      "[]\n"
     ]
    }
   ],
   "source": [
    "print(images)"
   ]
  },
  {
   "cell_type": "code",
   "execution_count": 41,
   "id": "36f9b7cc",
   "metadata": {},
   "outputs": [],
   "source": [
    "for image in images:\n",
    "    name=image['ait']\n",
    "    link=image['src']\n",
    "    print(image['src'])"
   ]
  },
  {
   "cell_type": "code",
   "execution_count": null,
   "id": "684506ca",
   "metadata": {},
   "outputs": [],
   "source": []
  },
  {
   "cell_type": "code",
   "execution_count": 3,
   "id": "44ecb1dd",
   "metadata": {},
   "outputs": [],
   "source": [
    "import requests\n",
    "from bs4 import BeautifulSoup"
   ]
  },
  {
   "cell_type": "code",
   "execution_count": 5,
   "id": "0e3456a4",
   "metadata": {},
   "outputs": [],
   "source": [
    "def getdata (url):\n",
    "    r= requests.get(url)\n",
    "    return r.text"
   ]
  },
  {
   "cell_type": "code",
   "execution_count": 13,
   "id": "a4f094b2",
   "metadata": {},
   "outputs": [
    {
     "name": "stdout",
     "output_type": "stream",
     "text": [
      "/sa/simg/Flag_Feedback.png\n"
     ]
    }
   ],
   "source": [
    "html=getdata('https://www.bing.com/images/search?view=detailV2&ccid=6tlLtIne&id=7B7FDDEC5C8CEFFD333DE2770259EE2ADC9A0C15&thid=OIP.6tlLtIneY6HhhwDiIxP9gQHaJI&mediaurl=https%3a%2f%2fwww.obituarytoday.com%2fuploads%2f1460456023_Dr_Bhim_Rao_Ambedkar.jpg&exph=1519&expw=1231&q=br+ambedkar&simid=608042600841430734&FORM=IRPRST&ck=663843635896E09D448EB60A99228EED&selectedIndex=1')\n",
    "soup=BeautifulSoup (html,'html.parser')\n",
    "for item in soup.find_all('img'):\n",
    "    print(item['src'])"
   ]
  },
  {
   "cell_type": "code",
   "execution_count": null,
   "id": "fe367f65",
   "metadata": {},
   "outputs": [],
   "source": []
  }
 ],
 "metadata": {
  "kernelspec": {
   "display_name": "Python 3 (ipykernel)",
   "language": "python",
   "name": "python3"
  },
  "language_info": {
   "codemirror_mode": {
    "name": "ipython",
    "version": 3
   },
   "file_extension": ".py",
   "mimetype": "text/x-python",
   "name": "python",
   "nbconvert_exporter": "python",
   "pygments_lexer": "ipython3",
   "version": "3.9.13"
  }
 },
 "nbformat": 4,
 "nbformat_minor": 5
}
